{
 "cells": [
  {
   "cell_type": "code",
   "execution_count": 2,
   "metadata": {},
   "outputs": [],
   "source": [
    "#importing necessary libraries\n",
    "\n",
    "import cv2\n",
    "import numpy as np\n",
    "import os\n",
    "from PIL import Image\n",
    "import imagehash\n",
    "import os\n",
    "import time"
   ]
  },
  {
   "cell_type": "code",
   "execution_count": 3,
   "metadata": {},
   "outputs": [],
   "source": [
    "def framing(ti,cap):\n",
    "    # Collecting frame from video with a time interval ti\n",
    "    frames=[]\n",
    "    fps=cap.get(cv2.CAP_PROP_FPS) #FPS of the video\n",
    "    fr = cap.get(cv2.CAP_PROP_FRAME_COUNT) #Total Frame count of the video\n",
    "    total_duration = fr/fps #Total Duration\n",
    "    #print(total_duration)\n",
    "    start=0\n",
    "    while start<total_duration-ti: #Iterating through the video till the final duration\n",
    "        print(f\"Frame {start} of {total_duration} completed\")\n",
    "        fid = fps*start   #frame at particular time\n",
    "        cap.set(cv2.CAP_PROP_POS_FRAMES,fid) #Setting the video cursor at the particular time\n",
    "        ret, frame = cap.read()\n",
    "        #print(fid,ret)\n",
    "        frames.append(frame)\n",
    "        start+=ti\n",
    "    return frames   #returning frames of the video as a numpy array with values 0-255"
   ]
  },
  {
   "cell_type": "code",
   "execution_count": 17,
   "metadata": {},
   "outputs": [
    {
     "name": "stdout",
     "output_type": "stream",
     "text": [
      "540339\n"
     ]
    }
   ],
   "source": [
    "def diff(path1,path2): \n",
    "    #Testing Function, Not used in main program\n",
    "    f1 = cv2.imread(path1)\n",
    "    f2 = cv2.imread(path2)\n",
    "    diff = cv2.absdiff(f1, f2)\n",
    "    non_zero_count = np.count_nonzero(diff)\n",
    "    print(non_zero_count)\n",
    "\n",
    "path1=\"test_photos/test6/photo0.png\"\n",
    "#cv2.imshow(path1)\n",
    "path2=\"test_photos/test6/photo1.png\"\n",
    "diff(path1,path2)"
   ]
  },
  {
   "cell_type": "code",
   "execution_count": 4,
   "metadata": {},
   "outputs": [],
   "source": [
    "def similar(i,testname):\n",
    "    #Checking wetheer the previous image and the current image are similar or not\n",
    "    \n",
    "    hash0 = imagehash.average_hash(Image.open(f'test_photos/{testname}/photo{i-1}.png')) \n",
    "    hash1 = imagehash.average_hash(Image.open(f'test_photos/{testname}/photo{i}.png')) \n",
    "    #print(int(hash0),int(hash1))\n",
    "    cutoff = 5 \n",
    "    if hash0 - hash1 < cutoff:\n",
    "      return True\n",
    "    else:\n",
    "      return False\n",
    "\n",
    "def checkblack(i,testname):\n",
    "    #Checking for any slides with majority values as black\n",
    "    threshold=1033203\n",
    "    img = cv2.imread(f'test_photos/{testname}/photo{i}.png',0) #read img as b/w as an numpy array\n",
    "    unique, counts = np.unique(img, return_counts=True)\n",
    "    mapColorCounts = dict(zip(unique, counts))\n",
    "    if 0 not in mapColorCounts:\n",
    "        return False\n",
    "    if mapColorCounts[0]>=threshold:\n",
    "        return True \n",
    "    return False\n"
   ]
  },
  {
   "cell_type": "code",
   "execution_count": 5,
   "metadata": {},
   "outputs": [],
   "source": [
    "def saveframes(frames,testname):\n",
    "    #Saving the frames as image \n",
    "    if testname not in os.listdir(\"test_photos\"): #Creating the test folder if its not present\n",
    "        os.mkdir(f\"test_photos/{testname}\")\n",
    "    cv2.imwrite(f\"test_photos/{testname}/photo{0}.png\",frames[0])\n",
    "    idx=1\n",
    "    for frame in frames[1:]:\n",
    "        cv2.imwrite(f\"test_photos/{testname}/photo{idx}.png\",frame) \n",
    "        if similar(idx,testname) or checkblack(idx,testname):\n",
    "            os.remove(f\"test_photos/{testname}/photo{idx}.png\")\n",
    "        else:\n",
    "            idx+=1\n",
    "#saveframes(b,\"test3\")"
   ]
  },
  {
   "cell_type": "code",
   "execution_count": 6,
   "metadata": {},
   "outputs": [],
   "source": [
    "def filter_diff(frames,const_threshold):\n",
    "    #First Stage of filtering out using opencv absdiff and count_nonzero method\n",
    "    thresholds=[] #Storing Thresholds\n",
    "    frames_selected=[frames[0]]\n",
    "    thresholds_selected=[0]\n",
    "    prev = frames[0]\n",
    "    for current in frames:\n",
    "        difference=cv2.absdiff(prev,current)\n",
    "        value = np.count_nonzero(difference)\n",
    "        thresholds.append(value)\n",
    "        if value>const_threshold:\n",
    "            frames_selected.append(prev)\n",
    "            thresholds_selected.append(value)\n",
    "        prev=current\n",
    "    frames_selected.append(current)\n",
    "    thresholds_selected.append(0)\n",
    "    return thresholds,frames_selected,thresholds_selected"
   ]
  },
  {
   "cell_type": "code",
   "execution_count": 7,
   "metadata": {},
   "outputs": [],
   "source": [
    "def main(video_path,testname):\n",
    "    const_thresh = 520000 \n",
    "    now = time.time()\n",
    "    cap = cv2.VideoCapture(video_path)\n",
    "    frames=framing(2,cap)\n",
    "    mid = time.time()\n",
    "    a,b,c=filter_diff(frames,const_thresh)\n",
    "    finish = time.time()\n",
    "    \n",
    "    savestart=time.time()\n",
    "    saveframes(b,testname)\n",
    "    saveend=time.time()\n",
    "    return saveend-now"
   ]
  },
  {
   "cell_type": "code",
   "execution_count": 9,
   "metadata": {},
   "outputs": [
    {
     "name": "stdout",
     "output_type": "stream",
     "text": [
      "Frame 0 of 66.73333333333333 completed\n",
      "Frame 2 of 66.73333333333333 completed\n",
      "Frame 4 of 66.73333333333333 completed\n",
      "Frame 6 of 66.73333333333333 completed\n",
      "Frame 8 of 66.73333333333333 completed\n",
      "Frame 10 of 66.73333333333333 completed\n",
      "Frame 12 of 66.73333333333333 completed\n",
      "Frame 14 of 66.73333333333333 completed\n",
      "Frame 16 of 66.73333333333333 completed\n",
      "Frame 18 of 66.73333333333333 completed\n",
      "Frame 20 of 66.73333333333333 completed\n",
      "Frame 22 of 66.73333333333333 completed\n",
      "Frame 24 of 66.73333333333333 completed\n",
      "Frame 26 of 66.73333333333333 completed\n",
      "Frame 28 of 66.73333333333333 completed\n",
      "Frame 30 of 66.73333333333333 completed\n",
      "Frame 32 of 66.73333333333333 completed\n",
      "Frame 34 of 66.73333333333333 completed\n",
      "Frame 36 of 66.73333333333333 completed\n",
      "Frame 38 of 66.73333333333333 completed\n",
      "Frame 40 of 66.73333333333333 completed\n",
      "Frame 42 of 66.73333333333333 completed\n",
      "Frame 44 of 66.73333333333333 completed\n",
      "Frame 46 of 66.73333333333333 completed\n",
      "Frame 48 of 66.73333333333333 completed\n",
      "Frame 50 of 66.73333333333333 completed\n",
      "Frame 52 of 66.73333333333333 completed\n",
      "Frame 54 of 66.73333333333333 completed\n",
      "Frame 56 of 66.73333333333333 completed\n",
      "Frame 58 of 66.73333333333333 completed\n",
      "Frame 60 of 66.73333333333333 completed\n",
      "Frame 62 of 66.73333333333333 completed\n",
      "Frame 64 of 66.73333333333333 completed\n"
     ]
    },
    {
     "data": {
      "text/plain": [
       "5.731042861938477"
      ]
     },
     "execution_count": 9,
     "metadata": {},
     "output_type": "execute_result"
    }
   ],
   "source": [
    "main(\"test1.mp4\",\"testfinal\")"
   ]
  },
  {
   "cell_type": "code",
   "execution_count": 53,
   "metadata": {},
   "outputs": [],
   "source": []
  },
  {
   "cell_type": "code",
   "execution_count": 55,
   "metadata": {},
   "outputs": [],
   "source": []
  },
  {
   "cell_type": "code",
   "execution_count": null,
   "metadata": {},
   "outputs": [],
   "source": [
    "# def convert_to_pdf(path,dest):\n",
    "#     final=[]\n",
    "#     images = os.listdir(path)\n",
    "#     for i in images[1:]:\n",
    "#         img = Image.open(f\"{path}/{i}\")\n",
    "#         imgc = img.convert('RGB')\n",
    "#         final.append(imgc)\n",
    "#     img0=Image.open(f\"{path}/{images[0]}\")\n",
    "#     imgc0=img0.convert(\"RGB\")\n",
    "#     imgc0.save(dest,save_all=True,append_images=final)"
   ]
  }
 ],
 "metadata": {
  "kernelspec": {
   "display_name": "Python 3",
   "language": "python",
   "name": "python3"
  },
  "language_info": {
   "codemirror_mode": {
    "name": "ipython",
    "version": 3
   },
   "file_extension": ".py",
   "mimetype": "text/x-python",
   "name": "python",
   "nbconvert_exporter": "python",
   "pygments_lexer": "ipython3",
   "version": "3.7.6"
  }
 },
 "nbformat": 4,
 "nbformat_minor": 4
}
